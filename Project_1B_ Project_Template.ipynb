{
 "cells": [
  {
   "cell_type": "markdown",
   "metadata": {},
   "source": [
    "# Part I. ETL Pipeline for Pre-Processing the Files"
   ]
  },
  {
   "cell_type": "markdown",
   "metadata": {},
   "source": [
    "## PLEASE RUN THE FOLLOWING CODE FOR PRE-PROCESSING THE FILES"
   ]
  },
  {
   "cell_type": "markdown",
   "metadata": {},
   "source": [
    "#### Import Python packages "
   ]
  },
  {
   "cell_type": "code",
   "execution_count": 9,
   "metadata": {},
   "outputs": [],
   "source": [
    "# Import Python packages \n",
    "\n",
    "import pandas as pd\n",
    "import cassandra\n",
    "import re\n",
    "import os\n",
    "import glob\n",
    "import numpy as np\n",
    "import json\n",
    "import csv"
   ]
  },
  {
   "cell_type": "markdown",
   "metadata": {},
   "source": [
    "#### Creating list of filepaths to process original event csv data files"
   ]
  },
  {
   "cell_type": "code",
   "execution_count": 10,
   "metadata": {},
   "outputs": [
    {
     "name": "stdout",
     "output_type": "stream",
     "text": [
      "/home/workspace\n"
     ]
    }
   ],
   "source": [
    "# checking your current working directory\n",
    "print(os.getcwd())\n",
    "\n",
    "# Get your current folder and subfolder event data\n",
    "filepath = os.getcwd() + '/event_data'\n",
    "\n",
    "# Create a for loop to create a list of files and collect each filepath\n",
    "for root, dirs, files in os.walk(filepath):\n",
    "    \n",
    "# join the file path and roots with the subdirectories using glob\n",
    "    file_path_list = glob.glob(os.path.join(root,'*'))\n",
    "#     print(file_path_list)"
   ]
  },
  {
   "cell_type": "markdown",
   "metadata": {},
   "source": [
    "#### Processing the files to create the data file csv that will be used for Apache Casssandra tables"
   ]
  },
  {
   "cell_type": "code",
   "execution_count": 20,
   "metadata": {},
   "outputs": [
    {
     "name": "stdout",
     "output_type": "stream",
     "text": [
      "Adding /home/workspace/event_data/2018-11-01-events.csv..........\n",
      "Adding /home/workspace/event_data/2018-11-02-events.csv..........\n",
      "Adding /home/workspace/event_data/2018-11-03-events.csv..........\n",
      "Adding /home/workspace/event_data/2018-11-04-events.csv..........\n",
      "Adding /home/workspace/event_data/2018-11-05-events.csv..........\n",
      "Adding /home/workspace/event_data/2018-11-06-events.csv..........\n",
      "Adding /home/workspace/event_data/2018-11-07-events.csv..........\n",
      "Adding /home/workspace/event_data/2018-11-08-events.csv..........\n",
      "Adding /home/workspace/event_data/2018-11-09-events.csv..........\n",
      "Adding /home/workspace/event_data/2018-11-10-events.csv..........\n",
      "Adding /home/workspace/event_data/2018-11-11-events.csv..........\n",
      "Adding /home/workspace/event_data/2018-11-12-events.csv..........\n",
      "Adding /home/workspace/event_data/2018-11-13-events.csv..........\n",
      "Adding /home/workspace/event_data/2018-11-14-events.csv..........\n",
      "Adding /home/workspace/event_data/2018-11-15-events.csv..........\n",
      "Adding /home/workspace/event_data/2018-11-16-events.csv..........\n",
      "Adding /home/workspace/event_data/2018-11-17-events.csv..........\n",
      "Adding /home/workspace/event_data/2018-11-18-events.csv..........\n",
      "Adding /home/workspace/event_data/2018-11-19-events.csv..........\n",
      "Adding /home/workspace/event_data/2018-11-20-events.csv..........\n",
      "Adding /home/workspace/event_data/2018-11-21-events.csv..........\n",
      "Adding /home/workspace/event_data/2018-11-22-events.csv..........\n",
      "Adding /home/workspace/event_data/2018-11-23-events.csv..........\n",
      "Adding /home/workspace/event_data/2018-11-24-events.csv..........\n",
      "Adding /home/workspace/event_data/2018-11-25-events.csv..........\n",
      "Adding /home/workspace/event_data/2018-11-26-events.csv..........\n",
      "Adding /home/workspace/event_data/2018-11-27-events.csv..........\n",
      "Adding /home/workspace/event_data/2018-11-28-events.csv..........\n",
      "Adding /home/workspace/event_data/2018-11-29-events.csv..........\n",
      "Adding /home/workspace/event_data/2018-11-30-events.csv..........\n"
     ]
    }
   ],
   "source": [
    "# initiating an empty list of rows that will be generated from each file\n",
    "\n",
    "full_data_rows_list = [] \n",
    "\n",
    "# for every filepath in the file path list \n",
    "\n",
    "for f in sorted(file_path_list):\n",
    "    \n",
    "# reading csv file \n",
    "\n",
    "    with open(f, 'r', encoding = 'utf8', newline='') as csvfile: \n",
    "        # creating a csv reader object \n",
    "        csvreader = csv.reader(csvfile) \n",
    "        next(csvreader)\n",
    "        print(f'Adding {f}..........')\n",
    "        \n",
    "# extracting each data row one by one and append it       \n",
    "\n",
    "        for line in csvreader:\n",
    "            #print(line)\n",
    "            full_data_rows_list.append(line) \n",
    "    \n",
    "# uncomment the code below if you would like to get total number of rows \n",
    "# print(len(full_data_rows_list))\n",
    "# uncomment the code below if you would like to check to see what the list of event data rows will look like\n",
    "# print(full_data_rows_list)\n",
    "\n",
    "# creating a smaller event data csv file called event_datafile_full csv that will be used to insert data into the \\\n",
    "# Apache Cassandra tables\n",
    "\n",
    "csv.register_dialect('myDialect', quoting=csv.QUOTE_ALL, skipinitialspace=True)\n",
    "\n",
    "with open('event_datafile_new.csv', 'w', encoding = 'utf8', newline='') as f:\n",
    "    writer = csv.writer(f, dialect='myDialect')\n",
    "    writer.writerow(['artist','firstName','gender','itemInSession','lastName','length',\\\n",
    "                'level','location','sessionId','song','userId'])\n",
    "    for row in full_data_rows_list:\n",
    "        if (row[0] == ''):\n",
    "            continue\n",
    "        writer.writerow((row[0], row[2], row[3], row[4], row[5], row[6], row[7], row[8], row[12], row[13], row[16]))\n"
   ]
  },
  {
   "cell_type": "code",
   "execution_count": 21,
   "metadata": {},
   "outputs": [
    {
     "name": "stdout",
     "output_type": "stream",
     "text": [
      "6821\n"
     ]
    }
   ],
   "source": [
    "# check the number of rows in your csv file\n",
    "\n",
    "with open('event_datafile_new.csv', 'r', encoding = 'utf8') as f:\n",
    "    print(sum(1 for line in f))"
   ]
  },
  {
   "cell_type": "markdown",
   "metadata": {},
   "source": [
    "# Part II. Complete the Apache Cassandra coding portion of your project. \n",
    "\n",
    "## Now you are ready to work with the CSV file titled <font color=red>event_datafile_new.csv</font>, located within the Workspace directory.  The event_datafile_new.csv contains the following columns: \n",
    "- artist \n",
    "- firstName of user\n",
    "- gender of user\n",
    "- item number in session\n",
    "- last name of user\n",
    "- length of the song\n",
    "- level (paid or free song)\n",
    "- location of the user\n",
    "- sessionId\n",
    "- song title\n",
    "- userId\n",
    "\n",
    "The image below is a screenshot of what the denormalized data should appear like in the <font color=red>**event_datafile_new.csv**</font> after the code above is run:<br>\n",
    "\n",
    "<img src=\"images/image_event_datafile_new.jpg\">"
   ]
  },
  {
   "cell_type": "markdown",
   "metadata": {},
   "source": [
    "## Begin writing your Apache Cassandra code in the cells below"
   ]
  },
  {
   "cell_type": "markdown",
   "metadata": {},
   "source": [
    "#### Creating a Cluster"
   ]
  },
  {
   "cell_type": "code",
   "execution_count": 22,
   "metadata": {},
   "outputs": [],
   "source": [
    "# This should make a connection to a Cassandra instance your local machine \n",
    "# (127.0.0.1)\n",
    "\n",
    "from cassandra.cluster import Cluster\n",
    "cluster = Cluster()\n",
    "\n",
    "# To establish connection and begin executing queries, need a session\n",
    "\n",
    "session = cluster.connect()"
   ]
  },
  {
   "cell_type": "markdown",
   "metadata": {},
   "source": [
    "#### Create Keyspace"
   ]
  },
  {
   "cell_type": "code",
   "execution_count": 23,
   "metadata": {},
   "outputs": [],
   "source": [
    "# Create a Keyspace \n",
    "\n",
    "try:\n",
    "    session.execute(\"\"\"\n",
    "    CREATE KEYSPACE IF NOT EXISTS udacity \n",
    "    WITH REPLICATION = \n",
    "    { 'class' : 'SimpleStrategy', 'replication_factor' : 1 }\"\"\"\n",
    ")\n",
    "\n",
    "except Exception as e:\n",
    "    print(e)"
   ]
  },
  {
   "cell_type": "markdown",
   "metadata": {},
   "source": [
    "#### Set Keyspace"
   ]
  },
  {
   "cell_type": "code",
   "execution_count": 24,
   "metadata": {},
   "outputs": [],
   "source": [
    "# Set KEYSPACE to the keyspace specified above\n",
    "\n",
    "try:\n",
    "    session.set_keyspace('udacity')\n",
    "except Exception as e:\n",
    "    print(e)"
   ]
  },
  {
   "cell_type": "markdown",
   "metadata": {},
   "source": [
    "### Now we need to create tables to run the following queries. Remember, with Apache Cassandra you model the database tables on the queries you want to run."
   ]
  },
  {
   "cell_type": "markdown",
   "metadata": {},
   "source": [
    "## Create queries to ask the following three questions of the data\n",
    "\n",
    "### 1. Give me the artist, song title and song's length in the music app history that was heard during  sessionId = 338, and itemInSession  = 4\n",
    "\n",
    "\n",
    "### 2. Give me only the following: name of artist, song (sorted by itemInSession) and user (first and last name) for userid = 10, sessionid = 182\n",
    "    \n",
    "\n",
    "### 3. Give me every user name (first and last) in my music app history who listened to the song 'All Hands Against His Own'\n",
    "\n",
    "\n"
   ]
  },
  {
   "cell_type": "code",
   "execution_count": 31,
   "metadata": {},
   "outputs": [],
   "source": [
    "## Functions\n",
    "\n",
    "def create_table(query)->None:\n",
    "    \"\"\"\n",
    "        create table in cassandra\n",
    "        \n",
    "        Parameters:\n",
    "        session  ---> query session\n",
    "        query    ---> sql query\n",
    "    \n",
    "    \"\"\"\n",
    "    try:\n",
    "        session.execute(query)\n",
    "    except Exception as e:\n",
    "        print(e)\n",
    "    print(f\"Table created!\")\n",
    "    \n",
    "# --------------------------\n",
    "def show_data(query)->None:\n",
    "    \"\"\"\n",
    "        Function takes a query to see if there is any data inserted.\n",
    "        \n",
    "        Parameter:\n",
    "        query  ---> query statement\n",
    "        \n",
    "    \"\"\"\n",
    "    try:\n",
    "        rows = session.execute(query)\n",
    "    except Exception as e:\n",
    "        print(e)\n",
    "\n",
    "    for row in rows:\n",
    "        print(row)\n",
    "    "
   ]
  },
  {
   "cell_type": "markdown",
   "metadata": {},
   "source": [
    "For table `songs_by_user_session`, the `sessionId` and `itemInsession` was used as a partition key because the queries will filter by this column. Those two columns make up a unique key for the data. Therefore, no clustering key was needed."
   ]
  },
  {
   "cell_type": "code",
   "execution_count": 42,
   "metadata": {},
   "outputs": [
    {
     "name": "stdout",
     "output_type": "stream",
     "text": [
      "Table created!\n"
     ]
    }
   ],
   "source": [
    "## Query 1:  Give me the artist, song title and song's length in the music app history that was heard during \\\n",
    "## sessionId = 338, and itemInSession = 4\n",
    "\n",
    "query1_createTable = \"\"\"\n",
    "CREATE TABLE IF NOT EXISTS songs_by_user_session (sessionId INT,\n",
    "                                                  itemInsession INT,\n",
    "                                                  artist VARCHAR,\n",
    "                                                  song VARCHAR,\n",
    "                                                  length DOUBLE,\n",
    "                                                  PRIMARY KEY(sessionId,itemInsession))\n",
    "\n",
    "\"\"\"\n",
    "\n",
    "# create table\n",
    "\n",
    "create_table(query1_createTable)"
   ]
  },
  {
   "cell_type": "code",
   "execution_count": 43,
   "metadata": {},
   "outputs": [],
   "source": [
    "# We have provided part of the code to set up the CSV file. \n",
    "\n",
    "file = 'event_datafile_new.csv'\n",
    "\n",
    "with open(file, encoding = 'utf8') as f:\n",
    "    csvreader = csv.reader(f)\n",
    "    next(csvreader) # skip header\n",
    "    for line in csvreader:\n",
    "## Assign the INSERT statements into the `query` variable\n",
    "        query = \"INSERT INTO songs_by_user_session (sessionId,itemInsession,artist,song,length)\"\n",
    "        query = query + \"VALUES(%s,%s,%s,%s,%s)\"\n",
    "        ## Assign which column element should be assigned for each column in the INSERT statement.\n",
    "        ## For e.g., to INSERT artist_name and user first_name, you would change the code below to `line[0], line[1]`\n",
    "        session.execute(query, (int(line[8]), int(line[3]), line[0], line[9], float(line[5])))"
   ]
  },
  {
   "cell_type": "markdown",
   "metadata": {},
   "source": [
    "#### Do a SELECT to verify that the data have been inserted into each table"
   ]
  },
  {
   "cell_type": "code",
   "execution_count": 46,
   "metadata": {},
   "outputs": [
    {
     "name": "stdout",
     "output_type": "stream",
     "text": [
      "Row(sessionid=338, iteminsession=1, artist='Pixies', song='Build High', length=89.36444)\n",
      "Row(sessionid=338, iteminsession=2, artist='The Roots / Jack Davey', song='Atonement', length=155.95057)\n",
      "Row(sessionid=338, iteminsession=3, artist='Mike And The Mechanics', song='A Beggar On A Beach Of Gold', length=275.12118)\n",
      "Row(sessionid=338, iteminsession=4, artist='Faithless', song='Music Matters (Mark Knight Dub)', length=495.3073)\n"
     ]
    }
   ],
   "source": [
    "## Add in the SELECT statement to verify the data was entered into the table\n",
    "\n",
    "query = \"SELECT sessionId,itemInsession,artist,song,length FROM songs_by_user_session WHERE sessionId=338\"\n",
    "show_data(query)"
   ]
  },
  {
   "cell_type": "markdown",
   "metadata": {},
   "source": [
    "### COPY AND REPEAT THE ABOVE THREE CELLS FOR EACH OF THE THREE QUESTIONS"
   ]
  },
  {
   "cell_type": "markdown",
   "metadata": {},
   "source": [
    "<img src=\"images/image_event_datafile_new.jpg\">"
   ]
  },
  {
   "cell_type": "markdown",
   "metadata": {},
   "source": [
    "For table `song_by_artist_user_session`, the `userId` and `sessionId`, were used as a partition key because the queries will filter by those two columns. Column `itemInsession` was used as clustering columns to help make up a unique key."
   ]
  },
  {
   "cell_type": "code",
   "execution_count": 47,
   "metadata": {},
   "outputs": [
    {
     "name": "stdout",
     "output_type": "stream",
     "text": [
      "Table created!\n"
     ]
    }
   ],
   "source": [
    "##  Query 2: Give me only the following: name of artist, song (sorted by itemInSession) and user (first and last name)\\\n",
    "## for userid = 10, sessionid = 182\n",
    "\n",
    "query2_createTable = \"\"\"\n",
    "CREATE TABLE IF NOT EXISTS song_by_artist_user_session (\n",
    "                                                       userId INT,\n",
    "                                                       sessionId INT,\n",
    "                                                       itemInsession INT,\n",
    "                                                       artist VARCHAR,\n",
    "                                                       song VARCHAR,\n",
    "                                                       firstName VARCHAR,\n",
    "                                                       lastName VARCHAR,\n",
    "                                                       PRIMARY KEY ((userId, sessionId),itemInsession))\n",
    "\n",
    "\n",
    "\n",
    "\"\"\"\n",
    "# create table\n",
    "\n",
    "create_table(query2_createTable)"
   ]
  },
  {
   "cell_type": "code",
   "execution_count": 48,
   "metadata": {},
   "outputs": [],
   "source": [
    "# insert data to table\n",
    "\n",
    "with open(file,encoding='utf8') as f:\n",
    "    query='INSERT INTO song_by_artist_user_session(userId,sessionId,itemInsession,artist,song,firstName,lastName) \\\n",
    "           VALUES (%s,%s,%s,%s,%s,%s,%s)'\n",
    "    csvreader = csv.reader(f)\n",
    "    next(csvreader)\n",
    "    for line in csvreader:\n",
    "        session.execute(query,(int(line[10]),int(line[8]),int(line[3]),line[0],line[9],line[1],line[4]))"
   ]
  },
  {
   "cell_type": "code",
   "execution_count": 49,
   "metadata": {},
   "outputs": [
    {
     "name": "stdout",
     "output_type": "stream",
     "text": [
      "Row(firstname='Sylvie', lastname='Cruz')\n",
      "Row(firstname='Sylvie', lastname='Cruz')\n",
      "Row(firstname='Sylvie', lastname='Cruz')\n",
      "Row(firstname='Sylvie', lastname='Cruz')\n"
     ]
    }
   ],
   "source": [
    "## Add in the SELECT statement to verify the data was entered into the table\n",
    "\n",
    "test_query = \"SELECT firstName,lastName FROM song_by_artist_user_session WHERE userid=10 AND sessionId=182\"\n",
    "show_data(test_query)\n"
   ]
  },
  {
   "cell_type": "markdown",
   "metadata": {},
   "source": [
    "For table `song_by_user`, the `song` was used as a partition key because the queries will filter by this column. Column `userId` was used as clustering columns to help make up a unique key."
   ]
  },
  {
   "cell_type": "code",
   "execution_count": 50,
   "metadata": {},
   "outputs": [
    {
     "name": "stdout",
     "output_type": "stream",
     "text": [
      "Table created!\n"
     ]
    }
   ],
   "source": [
    "## Query 3: Give me every user name (first and last) in my music app history who listened to the song 'All Hands Against His Own'\n",
    "\n",
    "query3_creatTable = \"\"\"\n",
    "CREATE TABLE IF NOT EXISTS song_by_user  (\n",
    "                                          song VARCHAR,\n",
    "                                          userId INT,\n",
    "                                          firstName VARCHAR,\n",
    "                                          lastName VARCHAR,\n",
    "                                          PRIMARY KEY(song,userId))\n",
    "\n",
    "\"\"\"\n",
    "\n",
    "# create table\n",
    "\n",
    "create_table(query3_creatTable)"
   ]
  },
  {
   "cell_type": "code",
   "execution_count": 51,
   "metadata": {},
   "outputs": [],
   "source": [
    "# insert data to table\n",
    "\n",
    "with open(file,encoding='utf8') as f:\n",
    "    query = \"INSERT INTO song_by_user (song,userId,firstName,lastName) \\\n",
    "            VALUES (%s,%s,%s,%s)\"\n",
    "    csvreader = csv.reader(f)\n",
    "    next(csvreader)\n",
    "    for line in csvreader:\n",
    "        session.execute(query,(line[9],int(line[10]),line[1],line[4]))"
   ]
  },
  {
   "cell_type": "code",
   "execution_count": 52,
   "metadata": {},
   "outputs": [
    {
     "name": "stdout",
     "output_type": "stream",
     "text": [
      "Row(firstname='Jacqueline', lastname='Lynch')\n",
      "Row(firstname='Tegan', lastname='Levine')\n",
      "Row(firstname='Sara', lastname='Johnson')\n"
     ]
    }
   ],
   "source": [
    "# test the query\n",
    "\n",
    "test_query =\"SELECT firstName,lastName FROM song_by_user WHERE song= 'All Hands Against His Own'\"\n",
    "show_data(test_query)"
   ]
  },
  {
   "cell_type": "markdown",
   "metadata": {},
   "source": [
    "### Drop the tables before closing out the sessions"
   ]
  },
  {
   "cell_type": "code",
   "execution_count": 53,
   "metadata": {},
   "outputs": [
    {
     "name": "stdout",
     "output_type": "stream",
     "text": [
      "Table songs_by_user_session droped sucessfully!\n",
      "Table song_by_artist_user_session droped sucessfully!\n",
      "Table song_by_user droped sucessfully!\n"
     ]
    }
   ],
   "source": [
    "## Drop the table before closing out the sessions\n",
    "\n",
    "tables= ['songs_by_user_session','song_by_artist_user_session','song_by_user']\n",
    "for t in tables:\n",
    "    try:\n",
    "        session.execute(f'DROP TABLE {t}')\n",
    "        print(f'Table {t} droped sucessfully!')\n",
    "    except Exception as e:\n",
    "        print(f'Drop table {t} failed.')\n",
    "        print(e)"
   ]
  },
  {
   "cell_type": "markdown",
   "metadata": {},
   "source": [
    "### Close the session and cluster connection¶"
   ]
  },
  {
   "cell_type": "code",
   "execution_count": 54,
   "metadata": {},
   "outputs": [],
   "source": [
    "session.shutdown()\n",
    "cluster.shutdown()"
   ]
  },
  {
   "cell_type": "code",
   "execution_count": null,
   "metadata": {},
   "outputs": [],
   "source": []
  },
  {
   "cell_type": "code",
   "execution_count": null,
   "metadata": {},
   "outputs": [],
   "source": []
  }
 ],
 "metadata": {
  "kernelspec": {
   "display_name": "Python 3",
   "language": "python",
   "name": "python3"
  },
  "language_info": {
   "codemirror_mode": {
    "name": "ipython",
    "version": 3
   },
   "file_extension": ".py",
   "mimetype": "text/x-python",
   "name": "python",
   "nbconvert_exporter": "python",
   "pygments_lexer": "ipython3",
   "version": "3.6.3"
  }
 },
 "nbformat": 4,
 "nbformat_minor": 4
}
